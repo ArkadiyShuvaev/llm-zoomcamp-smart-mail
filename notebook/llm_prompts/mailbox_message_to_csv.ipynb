{
 "cells": [
  {
   "cell_type": "markdown",
   "metadata": {},
   "source": [
    "You are a customer support specialist are preparing an internal knowledge base that will be used to answer customer questions.\n",
    "\n",
    "Read a text in German that will be placed to customer mailboxes below. The text is related to a project that has been placed in the crowd investing platform.\n",
    "\n",
    "The task is:\n",
    "1. Extract key points and create 2 questions and answers to them in German.\n",
    "2. Each question should be no less than 50 symbols.\n",
    "3. Each answer to the question should be no less than 200 symbols.\n",
    "4. Each row should have at least two tags.\n",
    "5. You have to create questions based on the given text below. The questions should be relevant to the text.\n",
    "6. The questions and answers can be similar to each other, but they should not be the same.\n",
    "7. The output format of the response should be in CSV with semicolon delimiter.\n",
    "8. Each row should include one question only. Do not combine two questions in one row.\n",
    "\n",
    "See the example of the CSV-semicolon-delimiter file below:\n",
    "\n",
    "```csv\n",
    "source_system;project_name;project_id;authorization_id;category;tags;question;answer;published_at;answer_instructions\n",
    "evdi;The Five;0113C948-C9CE-4A3D-AF99-D66BDEDE7D33;0113C948-C9CE-4A3D-AF99-D66BDEDE7D33;<Category of Question/Answer in German>;['<Tag name in German>', '<Tag name 2 in German>'];<Question in German>;<Answer in German>;2023-10-16T00:00:00+00:00;Sie finden alle Mitteilungen in Ihrem Anleger-Postfach: https://www.ev-digitalinvest.de/account/#/user/mailbox. Neue ungesehene Nachrichten werden mit einer Notiz im internen Bereich versehen. Als Tipp: App-Nutzer haben einen noch direkteren Zugriff auf ihr Postfach.\n",
    "```\n",
    "\n",
    "The notification message from customer mailbox is below:\n",
    "\n",
    "<Notification Message>"
   ]
  }
 ],
 "metadata": {
  "language_info": {
   "name": "python"
  }
 },
 "nbformat": 4,
 "nbformat_minor": 2
}
