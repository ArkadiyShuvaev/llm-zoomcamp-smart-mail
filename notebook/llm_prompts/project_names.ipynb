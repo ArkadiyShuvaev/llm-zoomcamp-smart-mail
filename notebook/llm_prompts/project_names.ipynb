{
 "cells": [
  {
   "cell_type": "markdown",
   "metadata": {},
   "source": [
    "You are a customer support specialist are preparing an internal knowledge base that will be used to answer customer questions."
   ]
  }
 ],
 "metadata": {
  "language_info": {
   "name": "python"
  }
 },
 "nbformat": 4,
 "nbformat_minor": 2
}
