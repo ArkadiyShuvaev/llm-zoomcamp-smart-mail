{
 "cells": [
  {
   "cell_type": "code",
   "execution_count": null,
   "metadata": {},
   "outputs": [],
   "source": [
    "import os\n",
    "import requests\n",
    "import pandas as pd\n",
    "from bs4 import BeautifulSoup"
   ]
  },
  {
   "cell_type": "code",
   "execution_count": null,
   "metadata": {},
   "outputs": [],
   "source": [
    "# Configuration\n",
    "tenant_id = os.getenv(\"TENANT_ID\")\n",
    "client_id = os.getenv(\"CLIENT_ID\")\n",
    "secret = os.getenv(\"SECRET\")\n",
    "shared_mailbox = os.getenv(\"SHARED_MAILBOX\")\n",
    "mail_domain = os.getenv(\"MAIL_DOMAIN\")\n",
    "\n",
    "# A list of mailboxes to be used for sending answers\n",
    "response_mailboxes = os.getenv(\"RESPONSE_MAILBOXES\").split(\",\")\n",
    "project_keyword = \"\"\n",
    "start_date = \"2022-04-29\"\n",
    "end_date = \"2024-11-24\"\n",
    "filtered_emails_path = f\"/home/jovyan/work/notebook/evaluate_prototype/{project_keyword.replace(' ', '_')}_filtered_emails.csv\"\n",
    "cleaned_emails_path = f\"/home/jovyan/work/notebook/evaluate_prototype/{project_keyword.replace(' ', '_')}_cleaned_emails.csv\"\n",
    "signature_separator = \"ENGEL&VÖLKERS DIGITAL INVEST\"\n"
   ]
  },
  {
   "cell_type": "markdown",
   "metadata": {},
   "source": [
    "Get access token"
   ]
  },
  {
   "cell_type": "code",
   "execution_count": null,
   "metadata": {},
   "outputs": [],
   "source": [
    "# Authenticate with Microsoft Graph API\n",
    "body = {\n",
    "    \"client_id\": client_id,\n",
    "    \"scope\": \"https://graph.microsoft.com/.default\",\n",
    "    \"client_secret\": secret,\n",
    "    \"grant_type\": \"client_credentials\"\n",
    "}\n",
    "\n",
    "response = requests.post(f\"https://login.microsoftonline.com/{tenant_id}/oauth2/v2.0/token\", data=body)\n",
    "access_token = response.json().get(\"access_token\")"
   ]
  },
  {
   "cell_type": "markdown",
   "metadata": {},
   "source": [
    "Get filtered messages"
   ]
  },
  {
   "cell_type": "code",
   "execution_count": null,
   "metadata": {},
   "outputs": [],
   "source": [
    "# Query emails from the shared mailbox\n",
    "headers = {\n",
    "    \"Authorization\": f\"Bearer {access_token}\"\n",
    "}\n",
    "query = f\"receivedDateTime ge {start_date} and receivedDateTime le {end_date} and (contains(subject, '{project_keyword}') or contains(body/content, '{project_keyword}')) and not(contains(from/emailAddress/address, '{mail_domain}'))\"\n",
    "\n",
    "messages_endpoint = f\"https://graph.microsoft.com/v1.0/users/{shared_mailbox}/messages?$filter={query}\"\n",
    "email_messages = []\n",
    "\n",
    "while True:\n",
    "    response = requests.get(messages_endpoint, headers=headers).json()\n",
    "    if \"value\" in response and response[\"value\"]:\n",
    "        for item in response[\"value\"]:\n",
    "            email_messages.append(item)\n",
    "\n",
    "    if \"@odata.nextLink\" in response and response[\"@odata.nextLink\"]:\n",
    "        messages_endpoint = response[\"@odata.nextLink\"]\n",
    "    else:\n",
    "        break"
   ]
  },
  {
   "cell_type": "code",
   "execution_count": null,
   "metadata": {},
   "outputs": [],
   "source": [
    "len(email_messages)"
   ]
  },
  {
   "cell_type": "code",
   "execution_count": null,
   "metadata": {},
   "outputs": [],
   "source": [
    "from typing import Any, List\n",
    "\n",
    "\n",
    "def get_answer(message, answers: List[Any]) -> str:\n",
    "    \"\"\" Returns an answer to the customer's question. \"\"\"\n",
    "\n",
    "    if len(answers) == 0:\n",
    "        return \"\"\n",
    "\n",
    "    result = \"\"\n",
    "    ordered_answers = sorted(answers, key=lambda x: x[\"receivedDateTime\"])\n",
    "  \n",
    "    for answer in ordered_answers:\n",
    "        if answer[\"receivedDateTime\"] < message[\"receivedDateTime\"]:\n",
    "            continue\n",
    "\n",
    "        if \"body\" in answer and \"content\" in answer[\"body\"]:\n",
    "            answer_html = answer['body']['content']\n",
    "            answer_soup = BeautifulSoup(answer_html, 'html.parser')\n",
    "            replaced_text = answer_soup.get_text().replace(\"\\n\", \" \").replace(\"\\r\", \"\").replace('\"', \"'\").strip()\n",
    "            result = replaced_text.split(signature_separator)[0]\n",
    "            break\n",
    "        \n",
    "    return result\n",
    "       "
   ]
  },
  {
   "cell_type": "code",
   "execution_count": null,
   "metadata": {},
   "outputs": [],
   "source": [
    "from typing import Tuple\n",
    "\n",
    "\n",
    "def get_message_data(response_mailboxes, headers, message) -> Tuple[str, str, str]:\n",
    "\n",
    "    body_html = message['body']['content']\n",
    "    body_soup = BeautifulSoup(body_html, 'html.parser')\n",
    "    body = body_soup.get_text().replace(\"\\n\", \" \").replace(\"\\r\", \"\").replace('\"', \"'\").strip()\n",
    "    question_without_history = body.split(signature_separator)[0]\n",
    "\n",
    "    result_response = None\n",
    "\n",
    "    # Retrieve the matching responses\n",
    "    for response_mailbox in response_mailboxes:\n",
    "        answers = []\n",
    "\n",
    "        response_query = f\"conversationId eq '{message[\"conversationId\"]}'\"\n",
    "        response_endpoint = f\"https://graph.microsoft.com/v1.0/users/{response_mailbox}/messages?$filter={response_query}\"\n",
    "        result_response = requests.get(response_endpoint, headers=headers).json()\n",
    "\n",
    "        if result_response is not None and 'value' in result_response and result_response['value']:\n",
    "            for answer in result_response['value']:\n",
    "                answers.append(answer)\n",
    "\n",
    "    answer = get_answer(message, answers)\n",
    "\n",
    "    return body, question_without_history, answer"
   ]
  },
  {
   "cell_type": "code",
   "execution_count": null,
   "metadata": {},
   "outputs": [],
   "source": [
    "from typing import Any, Dict, List, Sequence\n",
    "\n",
    "from tqdm import tqdm\n",
    "\n",
    "\n",
    "def get_email_data(messages: List[Any], response_mailboxes: Sequence[str], headers: Dict[str, str]) -> List[Dict[str, str]]:\n",
    "\n",
    "    email_data = []\n",
    "\n",
    "    for message in tqdm(messages):\n",
    "        received_date = message[\"receivedDateTime\"]\n",
    "        email_from = message[\"from\"][\"emailAddress\"][\"address\"]\n",
    "        conversationId: str = message[\"conversationId\"]\n",
    "\n",
    "        try:\n",
    "            # question details\n",
    "            question, question_without_history, answer = get_message_data(response_mailboxes, headers, message)\n",
    "\n",
    "            email_data.append({\n",
    "            \"received_date\": received_date,\n",
    "            \"email_from\": email_from,\n",
    "            \"subject\": message['subject'],\n",
    "            \"conversation_id\": conversationId,\n",
    "            \"question\": question,\n",
    "            \"question_without_history\": question_without_history,\n",
    "            \"answer\": answer\n",
    "        })\n",
    "\n",
    "        except Exception as ex:\n",
    "            print(ex)\n",
    "\n",
    "    return email_data"
   ]
  },
  {
   "cell_type": "code",
   "execution_count": null,
   "metadata": {},
   "outputs": [],
   "source": [
    "email_data = get_email_data(email_messages, response_mailboxes, headers)\n"
   ]
  },
  {
   "cell_type": "code",
   "execution_count": null,
   "metadata": {},
   "outputs": [],
   "source": [
    "import csv\n",
    "\n",
    "# Define the header\n",
    "header = [\"received_date\", \"conversation_id\", \"email_from\", \"subject\", \"question\", \"question_without_history\", \"answer\"]\n",
    "\n",
    "# Write the data to the CSV file\n",
    "with open(filtered_emails_path, mode='w', newline='', encoding=\"utf-8\") as file:\n",
    "    writer = csv.DictWriter(file, fieldnames=header, quoting=csv.QUOTE_ALL, delimiter=\";\")\n",
    "    writer.writeheader()\n",
    "    writer.writerows(email_data)"
   ]
  },
  {
   "cell_type": "markdown",
   "metadata": {},
   "source": [
    "# Clean up text"
   ]
  },
  {
   "cell_type": "code",
   "execution_count": null,
   "metadata": {},
   "outputs": [],
   "source": [
    "import pandas as pd\n",
    "\n",
    "# Import from CSV\n",
    "df = pd.read_csv(filtered_emails_path, sep=\";\", encoding=\"utf-8\")"
   ]
  },
  {
   "cell_type": "code",
   "execution_count": null,
   "metadata": {},
   "outputs": [],
   "source": [
    "text = \"\""
   ]
  },
  {
   "cell_type": "code",
   "execution_count": null,
   "metadata": {},
   "outputs": [],
   "source": [
    "import re\n",
    "\n",
    "def remove_warning(email_text):\n",
    "    # Comprehensive list of patterns\n",
    "    patterns = [\n",
    "        r'You don\\'t often get email from .*?Learn why this is important at https://aka\\.ms/LearnAboutSenderIdentification\\s*',\n",
    "        r'You don\\'t often get email from .*?Learn why this is important\\s*',\n",
    "        r'Sie erhalten nicht oft E-Mails von .*?Erfahre mehr unter https://aka\\.ms/LearnAboutSenderIdentification\\s*'\n",
    "        r'Sie erhalten nicht oft E-Mails von .*?Erfahre mehr unter\\s*'\n",
    "    ]\n",
    "    \n",
    "    # Remove each pattern\n",
    "    for pattern in patterns:\n",
    "        email_text = re.sub(pattern, '', email_text, flags=re.IGNORECASE | re.DOTALL)\n",
    "    \n",
    "    return email_text.strip()"
   ]
  },
  {
   "cell_type": "code",
   "execution_count": null,
   "metadata": {},
   "outputs": [],
   "source": [
    "print(remove_warning(\"\"))"
   ]
  },
  {
   "cell_type": "code",
   "execution_count": null,
   "metadata": {},
   "outputs": [],
   "source": [
    "text_without_warning = remove_warning(text)\n",
    "print(text_without_warning)"
   ]
  },
  {
   "cell_type": "code",
   "execution_count": null,
   "metadata": {},
   "outputs": [],
   "source": [
    "import re\n",
    "\n",
    "def remove_device_signatures(text):\n",
    "    # Patterns for different languages and variations\n",
    "    device_patterns = [\n",
    "        # English patterns\n",
    "        r'[Ss]ent from my (?:iPhone|iPad|Android|Mobile|Phone|Tablet)',\n",
    "        r'[Ss]ent from a mobile device',\n",
    "        r'[Ss]ent from (?:my )?mobile',\n",
    "        \n",
    "        # German patterns\n",
    "        r'[Vv]on meinem (?:iPhone|iPad|Android|Handy|Mobilgerät) gesendet',\n",
    "        r'[Vv]on meinem Mobil(?:telefon)? gesendet',\n",
    "        r'[Gg]esendet von meinem (?:iPhone|iPad|Android|Handy) gesendet',\n",
    "        r'[Vv]on meinem Smartphone gesendet',\n",
    "        \n",
    "        # Additional variations\n",
    "        r'[Ss]ent using (?:mobile )?(?:app|device)',\n",
    "        r'[Gg]esendet mit (?:mobile )?(?:App|Gerät)'\n",
    "    ]\n",
    "    \n",
    "    # Combine patterns into a single regex\n",
    "    combined_pattern = '|'.join(device_patterns)\n",
    "    \n",
    "    # Remove the patterns, including potential newline and whitespace\n",
    "    cleaned_text = re.sub(combined_pattern, '', text, flags=re.IGNORECASE).strip()\n",
    "    \n",
    "    return cleaned_text"
   ]
  },
  {
   "cell_type": "code",
   "execution_count": null,
   "metadata": {},
   "outputs": [],
   "source": [
    "text_without_device_signatures = remove_device_signatures(text_without_warning)\n",
    "print(text_without_device_signatures)"
   ]
  },
  {
   "cell_type": "code",
   "execution_count": null,
   "metadata": {},
   "outputs": [],
   "source": [
    "text2 = \"\"\n",
    "print(remove_device_signatures(text2))"
   ]
  },
  {
   "cell_type": "code",
   "execution_count": null,
   "metadata": {},
   "outputs": [],
   "source": [
    "import re\n",
    "\n",
    "def remove_engel_voelkers_signature(text):\n",
    "    # Pattern to match the entire block from \"ENGEL&VÖLKERS DIGITAL INVEST\" \n",
    "    # to \"We cannot accept any liability for virus contamination.\"\n",
    "    pattern = r'ENGEL&VÖLKERS DIGITAL INVEST.*?We cannot accept any liability for virus contamination\\.'\n",
    "    \n",
    "    # Remove the pattern globally (multiple occurrences)\n",
    "    # Use re.DOTALL to match across multiple lines\n",
    "    # Use re.IGNORECASE to handle case variations\n",
    "    cleaned_text = re.sub(pattern, '', text, flags=re.DOTALL | re.IGNORECASE)\n",
    "    \n",
    "    # Remove any extra consecutive newlines that might be left\n",
    "    cleaned_text = re.sub(r'\\n{3,}', '\\n\\n', cleaned_text)\n",
    "    \n",
    "    return cleaned_text.strip()"
   ]
  },
  {
   "cell_type": "code",
   "execution_count": null,
   "metadata": {},
   "outputs": [],
   "source": [
    "ev_signature = remove_engel_voelkers_signature(text_without_device_signatures)\n",
    "print(ev_signature)"
   ]
  }
 ],
 "metadata": {
  "kernelspec": {
   "display_name": "Python 3 (ipykernel)",
   "language": "python",
   "name": "python3"
  },
  "language_info": {
   "codemirror_mode": {
    "name": "ipython",
    "version": 3
   },
   "file_extension": ".py",
   "mimetype": "text/x-python",
   "name": "python",
   "nbconvert_exporter": "python",
   "pygments_lexer": "ipython3",
   "version": "3.12.7"
  }
 },
 "nbformat": 4,
 "nbformat_minor": 2
}
