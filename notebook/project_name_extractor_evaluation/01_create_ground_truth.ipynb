{
 "cells": [
  {
   "cell_type": "markdown",
   "metadata": {},
   "source": [
    "# Create ground truth data"
   ]
  },
  {
   "cell_type": "markdown",
   "metadata": {},
   "source": [
    "## Prompt to generate data #1"
   ]
  },
  {
   "cell_type": "markdown",
   "metadata": {},
   "source": [
    "hi, your task is to create a set of dummy emails with questions from customers for the given project list below.\n",
    "\n",
    "The requirements are:\n",
    "- The questions should be in German and be related to the crowd investing topics about interest rates, security, project duration, infrastructure, etc.\n",
    "\n",
    "- Every email should include a subject at least 20 symbols length and the body no less than 300 symbols length.\n",
    "\n",
    "- Every project should have:\n",
    "  - 2 questions with the project name in the subject, but without project name in the body\n",
    "  - 2 questions with the project name in the body but without project name in the subject\n",
    "  - 1 question with the project name in the subject and with the project name in the body.\n",
    "\n",
    "  In total, you should have 5 emails per project. Generate emails in memory, ensure before sending to console that three conditions above are met. Otherwise, regenerate the emails that do not meet the requirements.\n",
    "\n",
    "  For instance:\n",
    "    - Wie ist das Risiko beim Projekt Am Akkonplatz eingeschätzt?;Wie wird das Risiko bei diesem Investment eingeschätzt? Gibt es Schutzmechanismen, um mein Kapital zu sichern, falls das Projekt nicht erfolgreich ist?\n",
    "    - Wie lange dauert die Finanzierung des Projekts Am Akkonplatz?;Könnten Sie mir bitte mitteilen, wie lange die geplante Dauer der Finanzierung ist? Wann kann ich mit der Rückzahlung meines Investments rechnen?\n",
    "    - Was für Sicherheiten gibt es bei diesem Investment?;Welche Sicherheiten bietet das Projekt Am Akkonplatz, um das Risiko für die Investoren zu minimieren? Sind alle Investitionen gleich gut abgesichert?\n",
    "    - Wie hoch ist die Rendite beim Projekt Am Akkonplatz?;Welche Rendite kann ich bei einer Investition in das Projekt Am Akkonplatz erwarten? Gibt es eine Prognose, wie sich die Verzinsung über die Laufzeit entwickeln könnte?\n",
    "    - Am Akkonplatz – Welche Vorteile habe ich durch ein Investment?;Welche besonderen Vorteile ergeben sich durch ein Investment im Projekt Am Akkonplatz? Gibt es spezielle Konditionen für frühe Investoren?\n",
    "    - Wann beginnt die Auszahlung der Zinsen?;Ich möchte wissen, ab wann die Verzinsung meines Investments im Projekt Am Akkonplatz beginnt und in welchen Abständen die Zinsen ausgezahlt werden.\n",
    "\n",
    "- Use the name of the projects from Python objects below. For instance, \"4148DC9F-28CD-44E5-AB22-6B3F9B0DEBB9\" is UUID of the project, \"OVUM Neue Mitte Braunsfeld II\" - it is a name of the project. The list of Python objects:\n",
    "  ```Python\n",
    "  Project.create(uuid.UUID(\"118BBDEC-3A71-4E5F-B725-BDC85E4A31EB\"), \"Stadthaus 'Mozart'\"),\n",
    "  Project.create(uuid.UUID(\"AFDD98B3-B93C-4803-8D60-FF1733217768\"), \"Stadthaus 'Mozart' II\"),\n",
    "  ```\n",
    "\n",
    "- The output format should be in the CSV format with the following columns: \"source_system\",\"subject\",\"body\",\"project_id\".\n",
    "source_system is always \"evdi\", project_id is the UUID of the project from the list above. For instance:\n",
    "  ```CSV\n",
    "  source_system;project_id;project_name;subject;body\n",
    "  evdi;{54EE27F7-BFB3-49BD-9438-2BE412C8D8A0};DFI Zukunftspark Oberfranken VI;<subject of the email in German>;<body of the email in German>\n",
    "  evdi;{716867B4-C28C-425E-94BE-59886D853D49};Berliner Flair in Friedrichshain II;<subject of the email in German>;<body of the email in German>\n",
    "  ```"
   ]
  },
  {
   "cell_type": "markdown",
   "metadata": {},
   "source": []
  },
  {
   "cell_type": "markdown",
   "metadata": {},
   "source": [
    "## Prompt to generate data #2"
   ]
  },
  {
   "cell_type": "markdown",
   "metadata": {},
   "source": [
    "hi, your task is to create a set of fictitious questions from customers.\n",
    "\n",
    "The requirements are:\n",
    "- The questions should be in German and be related to the crowd investing topics about interest rates, security, project duration, infrastructure, etc.\n",
    "\n",
    "- Every question should include a subject at least 20 tokens length and the body (question) no less than 300 tokens length.\n",
    "\n",
    "- The result has to include:\n",
    "  - 2 questions with the project name in the subject, but without project name in the body\n",
    "  - 2 questions with the project name in the body but without project name in the subject\n",
    "  - 2 question with the project name in the subject and with the project name in the body.\n",
    "\n",
    "  In total, you should have 6 questions per project.\n",
    "  For instance:\n",
    "    - Welche Sicherheiten bietet das Projekt DFI Zukunftspark Oberfranken VI?;Können Sie mir bitte mitteilen, welche Sicherheiten im angeboten werden? Es ist mir wichtig zu wissen, wie mein Investment abgesichert wird und ob es zusätzliche Garantien gibt.\n",
    "    - Wie ist die Verzinsung für mein Investment?;Ich würde gerne mehr über die Verzinsung bei meinem Investment im Projekt DFI Zukunftspark Nordbayern IV erfahren. Gibt es verschiedene Optionen für unterschiedliche Beträge?\n",
    "\n",
    "- The output format should be in the CSV format with the following columns: \"project_name\", \"subject\", and \"body\" with semi-colon delimiter (\";\"). For instance:\n",
    "  ```CSV\n",
    "  project_name;subject;body\n",
    "  DFI Zukunftspark Oberfranken VI;Welche Sicherheiten bietet das Projekt DFI Zukunftspark Oberfranken VI?;Können Sie mir bitte mitteilen, welche Sicherheiten im angeboten werden? Es ist mir wichtig zu wissen, wie mein Investment abgesichert wird und ob es zusätzliche Garantien gibt.\n",
    "  DFI Zukunftspark Nordbayern IV;Wie ist die Verzinsung für mein Investment?;Ich würde gerne mehr über die Verzinsung bei meinem Investment im Projekt DFI Zukunftspark Nordbayern IV erfahren. Gibt es verschiedene Optionen für unterschiedliche Beträge?\n",
    "  ```\n",
    "\n",
    "- The project names to use to generate the emails:\n",
    "  - smartUP Self-Storage-Park II\n",
    "  - smartUP Self-Storage-Park III\n"
   ]
  }
 ],
 "metadata": {
  "language_info": {
   "name": "python"
  }
 },
 "nbformat": 4,
 "nbformat_minor": 2
}
