{
 "cells": [
  {
   "cell_type": "markdown",
   "metadata": {},
   "source": [
    "## Create ground truth data\n",
    "The goal of this notebook is to create a ground truth data to evaluate retrieval and RAG flow metrics."
   ]
  },
  {
   "cell_type": "code",
   "execution_count": 18,
   "metadata": {},
   "outputs": [],
   "source": [
    "from services import *\n",
    "from common.settings import Settings\n",
    "from common.client_factory import ClientFactory\n",
    "import pandas as pd\n",
    "from pandas import DataFrame\n",
    "import json\n",
    "import os\n",
    "from typing import Any, Dict, List\n",
    "from pprint import pprint\n",
    "from tqdm import tqdm"
   ]
  },
  {
   "cell_type": "markdown",
   "metadata": {},
   "source": [
    "### Read a dataset with documetns ids."
   ]
  },
  {
   "cell_type": "code",
   "execution_count": 2,
   "metadata": {},
   "outputs": [],
   "source": [
    "doc_with_ids_path = \"/home/jovyan/work/notebook/retrieval_evaluation/dataset_with_doc_ids.csv\"\n",
    "ground_truth_path = \"/home/jovyan/work/notebook/retrieval_evaluation/ground_truth.csv\""
   ]
  },
  {
   "cell_type": "code",
   "execution_count": 3,
   "metadata": {},
   "outputs": [
    {
     "data": {
      "text/html": [
       "<div>\n",
       "<style scoped>\n",
       "    .dataframe tbody tr th:only-of-type {\n",
       "        vertical-align: middle;\n",
       "    }\n",
       "\n",
       "    .dataframe tbody tr th {\n",
       "        vertical-align: top;\n",
       "    }\n",
       "\n",
       "    .dataframe thead th {\n",
       "        text-align: right;\n",
       "    }\n",
       "</style>\n",
       "<table border=\"1\" class=\"dataframe\">\n",
       "  <thead>\n",
       "    <tr style=\"text-align: right;\">\n",
       "      <th></th>\n",
       "      <th>source_system</th>\n",
       "      <th>section</th>\n",
       "      <th>question</th>\n",
       "      <th>answer</th>\n",
       "      <th>document_id</th>\n",
       "    </tr>\n",
       "  </thead>\n",
       "  <tbody>\n",
       "    <tr>\n",
       "      <th>0</th>\n",
       "      <td>evdi</td>\n",
       "      <td>Analysekonzept</td>\n",
       "      <td>Wie läuft der Analyseprozess für Immobilienpro...</td>\n",
       "      <td>Der Analyseprozess bei Engel &amp; Völkers Digital...</td>\n",
       "      <td>f2624f5125f9</td>\n",
       "    </tr>\n",
       "  </tbody>\n",
       "</table>\n",
       "</div>"
      ],
      "text/plain": [
       "  source_system         section  \\\n",
       "0          evdi  Analysekonzept   \n",
       "\n",
       "                                            question  \\\n",
       "0  Wie läuft der Analyseprozess für Immobilienpro...   \n",
       "\n",
       "                                              answer   document_id  \n",
       "0  Der Analyseprozess bei Engel & Völkers Digital...  f2624f5125f9  "
      ]
     },
     "execution_count": 3,
     "metadata": {},
     "output_type": "execute_result"
    }
   ],
   "source": [
    "df = pd.read_csv(doc_with_ids_path, delimiter=\";\")\n",
    "df[:1]"
   ]
  },
  {
   "cell_type": "code",
   "execution_count": 4,
   "metadata": {},
   "outputs": [
    {
     "data": {
      "text/plain": [
       "{'elastic_search_url': 'http://elasticsearch:9200',\n",
       " 'index_name': 'documents',\n",
       " 'postgres_user': 'admin',\n",
       " 'postgres_password': 'P@ssw0rd!',\n",
       " 'postgres_port': '5432',\n",
       " 'postgres_db': 'rag_application',\n",
       " 'source_system': 'evdi',\n",
       " 'postgres_host': 'db',\n",
       " 'embedding_model_name': 'distiluse-base-multilingual-cased-v1'}"
      ]
     },
     "execution_count": 4,
     "metadata": {},
     "output_type": "execute_result"
    }
   ],
   "source": [
    "settings = Settings()\n",
    "settings.to_dict()"
   ]
  },
  {
   "cell_type": "code",
   "execution_count": 5,
   "metadata": {},
   "outputs": [
    {
     "data": {
      "text/plain": [
       "ObjectApiResponse({'name': 'a639f0e3a42f', 'cluster_name': 'docker-cluster', 'cluster_uuid': 'aJrw85pRTECvuVEC8ISEHg', 'version': {'number': '8.9.0', 'build_flavor': 'default', 'build_type': 'docker', 'build_hash': '8aa461beb06aa0417a231c345a1b8c38fb498a0d', 'build_date': '2023-07-19T14:43:58.555259655Z', 'build_snapshot': False, 'lucene_version': '9.7.0', 'minimum_wire_compatibility_version': '7.17.0', 'minimum_index_compatibility_version': '7.0.0'}, 'tagline': 'You Know, for Search'})"
      ]
     },
     "execution_count": 5,
     "metadata": {},
     "output_type": "execute_result"
    }
   ],
   "source": [
    "factory = ClientFactory(settings)\n",
    "es_client = factory.create_elasticsearch_client()\n",
    "es_client.info()"
   ]
  },
  {
   "cell_type": "markdown",
   "metadata": {},
   "source": [
    "### Create 5 questions to every question/answer pair\n",
    "Create LLM client and request creating 5 questions for each question/answer pair."
   ]
  },
  {
   "cell_type": "code",
   "execution_count": 6,
   "metadata": {},
   "outputs": [],
   "source": [
    "bedrock_client = factory.create_bedrock_client()"
   ]
  },
  {
   "cell_type": "code",
   "execution_count": 7,
   "metadata": {},
   "outputs": [],
   "source": [
    "def invoke_llm_model(prompt: str, bedrock_client)-> str:\n",
    "    model = \"amazon.titan-text-premier-v1:0\"\n",
    "\n",
    "    text_generation_config: dict[str, int | float | str] = {\n",
    "        \"maxTokenCount\": 2000\n",
    "    }\n",
    "\n",
    "    body_request = json.dumps(\n",
    "        {\n",
    "            \"inputText\": prompt,\n",
    "            \"textGenerationConfig\": text_generation_config\n",
    "        }\n",
    "    )\n",
    "\n",
    "    response = bedrock_client.invoke_model(\n",
    "        modelId=model,\n",
    "        contentType=\"application/json\",\n",
    "        accept=\"*/*\",\n",
    "        body=body_request,\n",
    "    )\n",
    "\n",
    "    body_as_plain_text = response.get(\"body\").read()\n",
    "    response_body = json.loads(body_as_plain_text)\n",
    "    return response_body\n",
    "    # return response_body[\"results\"][0][\"outputText\"].strip()"
   ]
  },
  {
   "cell_type": "code",
   "execution_count": 8,
   "metadata": {},
   "outputs": [],
   "source": [
    "def create_prompt_for_document(document: Dict[str, Any]) -> str:\n",
    "    question = document[\"question\"].strip()\n",
    "    answer = document[\"answer\"].strip()\n",
    "    category = document[\"category\"].strip()\n",
    "    \n",
    "    prompt_en = (\n",
    "        \"Act like you are an experienced customer support service specialist at EV Digital Invest AG company. \\n\"\n",
    "        \"You are tasked to write five new questions for the given content.  \\n\"\n",
    "        \"Follow the instructions below to prepare the data. \\n\"\n",
    "\n",
    "        \"# Instructions \\n\"\n",
    "        \"- Read a question, answer, and the related category name from the internal database. \\n\"\n",
    "        \"- Analyze the question, answer, and the related category. \\n\"\n",
    "        \"- Based on analytical outcome, create 5 new questions. \\n\"\n",
    "        \"- Format this questions as CSV file with the semicolon as a delimiter in the format: \\n\"\n",
    "        \"category;question \\n\"\n",
    "        \"{category};{question number 1} \\n\"\n",
    "        \"{category};{question number 2} \\n\"\n",
    "        \"{category};{question number 3} \\n\"\n",
    "        \"{category};{question number 4} \\n\"\n",
    "        \"{category};{question number 5} \\n\"\n",
    "\n",
    "        \"# Question, answer, and the related category from the database: \\n\"\n",
    "        \"Question: {Question} \\n\"\n",
    "        \"Answer: {Answer} \\n\"\n",
    "        \"Category: {Category} \\n\"\n",
    "    )\n",
    "\n",
    "    prompt = (\n",
    "        \"Verhalte Dich, als wärst Du ein erfahrener Kundendienstspezialist bei der EV Digital Invest AG. \\n\"\n",
    "        \"Deine Aufgabe ist es, fünf neue Fragen zum gegebenen Inhalt zu formulieren. \\n\"\n",
    "        \"Befolge die untenstehenden Anweisungen, um die Daten vorzubereiten. \\n\"\n",
    "\n",
    "        \"# Anweisungen \\n\"\n",
    "        \"- Lies eine Frage, Antwort und den dazugehörigen Abschnittsnamen aus der internen Datenbank. \\n\"\n",
    "        \"- Analysiere die Frage, Antwort und den zugehörigen Abschnitt. \\n\"\n",
    "        \"- Erstelle basierend auf dem Analyseergebnis 5 neue Fragen. \\n\"\n",
    "        \"- Formatiere diese Fragen als CSV-Datei mit Semikolon als Trennzeichen im folgenden Format: \\n\"\n",
    "        \"Abschnitt;Frage \\n\"\n",
    "        \"{Abschnitt};{Frage Nummer 1} \\n\"\n",
    "        \"{Abschnitt};{Frage Nummer 2} \\n\"\n",
    "        \"{Abschnitt};{Frage Nummer 3} \\n\"\n",
    "        \"{Abschnitt};{Frage Nummer 4} \\n\"\n",
    "        \"{Abschnitt};{Frage Nummer 5} \\n\"\n",
    "\n",
    "        \"# Frage, Antwort und der zugehörige Abschnitt aus der Datenbank: \\n\"\n",
    "        f\"Frage: {question} \\n\"\n",
    "        f\"Antwort: {answer} \\n\"\n",
    "        f\"Abschnitt: {category} \\n\"\n",
    "    )\n",
    "    \n",
    "    return prompt"
   ]
  },
  {
   "cell_type": "markdown",
   "metadata": {},
   "source": [
    "#### Generate ground truth questions for the first item to test the approach"
   ]
  },
  {
   "cell_type": "code",
   "execution_count": 9,
   "metadata": {},
   "outputs": [
    {
     "data": {
      "text/plain": [
       "{'source_system': 'evdi',\n",
       " 'section': 'Analysekonzept',\n",
       " 'question': 'Wie läuft der Analyseprozess für Immobilienprojekte bei Engel & Völkers Digital Invest ab und welche externen Partner sind daran beteiligt?',\n",
       " 'answer': 'Der Analyseprozess bei Engel & Völkers Digital Invest basiert auf einem speziell entwickelten Konzept für die Projektfinanzierung von Bauvorhaben und Grundstücken. Zunächst erfolgt eine interne Analyse, die auf dem umfangreichen Know-how des Engel & Völkers-Netzwerks aufbaut, einschließlich Research-Material und persönlicher Kontakte vor Ort. Um eine unabhängige Validierung zu gewährleisten, werden zusätzlich externe Experten hinzugezogen: Die bulwiengesa appraisal GmbH führt eine Markt- und Standortanalyse durch, CBRE übernimmt die technische Projektanalyse, Mazars analysiert den Projektentwickler, und HUTH DIETRICH HAHN prüft die rechtlichen Aspekte. Basierend auf diesen Gutachten erstellt Engel & Völkers Digital Invest eigenverantwortlich die finale Projekteinschätzung. Dieser umfassende Ansatz gewährleistet eine gründliche und objektive Bewertung jedes Immobilienprojekts.',\n",
       " 'document_id': 'f2624f5125f9'}"
      ]
     },
     "execution_count": 9,
     "metadata": {},
     "output_type": "execute_result"
    }
   ],
   "source": [
    "first_doc = df.iloc[0]\n",
    "first_doc.to_dict()"
   ]
  },
  {
   "cell_type": "code",
   "execution_count": 10,
   "metadata": {},
   "outputs": [
    {
     "name": "stdout",
     "output_type": "stream",
     "text": [
      "('Verhalte Dich, als wärst Du ein erfahrener Kundendienstspezialist bei der EV '\n",
      " 'Digital Invest AG. \\n'\n",
      " 'Deine Aufgabe ist es, fünf neue Fragen zum gegebenen Inhalt zu '\n",
      " 'formulieren. \\n'\n",
      " 'Befolge die untenstehenden Anweisungen, um die Daten vorzubereiten. \\n'\n",
      " '# Anweisungen \\n'\n",
      " '- Lies eine Frage, Antwort und den dazugehörigen Abschnittsnamen aus der '\n",
      " 'internen Datenbank. \\n'\n",
      " '- Analysiere die Frage, Antwort und den zugehörigen Abschnitt. \\n'\n",
      " '- Erstelle basierend auf dem Analyseergebnis 5 neue Fragen. \\n'\n",
      " '- Formatiere diese Fragen als CSV-Datei mit Semikolon als Trennzeichen im '\n",
      " 'folgenden Format: \\n'\n",
      " 'Abschnitt;Frage \\n'\n",
      " '{Abschnitt};{Frage Nummer 1} \\n'\n",
      " '{Abschnitt};{Frage Nummer 2} \\n'\n",
      " '{Abschnitt};{Frage Nummer 3} \\n'\n",
      " '{Abschnitt};{Frage Nummer 4} \\n'\n",
      " '{Abschnitt};{Frage Nummer 5} \\n'\n",
      " '# Frage, Antwort und der zugehörige Abschnitt aus der Datenbank: \\n'\n",
      " 'Frage: Wie läuft der Analyseprozess für Immobilienprojekte bei Engel & '\n",
      " 'Völkers Digital Invest ab und welche externen Partner sind daran '\n",
      " 'beteiligt? \\n'\n",
      " 'Antwort: Der Analyseprozess bei Engel & Völkers Digital Invest basiert auf '\n",
      " 'einem speziell entwickelten Konzept für die Projektfinanzierung von '\n",
      " 'Bauvorhaben und Grundstücken. Zunächst erfolgt eine interne Analyse, die auf '\n",
      " 'dem umfangreichen Know-how des Engel & Völkers-Netzwerks aufbaut, '\n",
      " 'einschließlich Research-Material und persönlicher Kontakte vor Ort. Um eine '\n",
      " 'unabhängige Validierung zu gewährleisten, werden zusätzlich externe Experten '\n",
      " 'hinzugezogen: Die bulwiengesa appraisal GmbH führt eine Markt- und '\n",
      " 'Standortanalyse durch, CBRE übernimmt die technische Projektanalyse, Mazars '\n",
      " 'analysiert den Projektentwickler, und HUTH DIETRICH HAHN prüft die '\n",
      " 'rechtlichen Aspekte. Basierend auf diesen Gutachten erstellt Engel & Völkers '\n",
      " 'Digital Invest eigenverantwortlich die finale Projekteinschätzung. Dieser '\n",
      " 'umfassende Ansatz gewährleistet eine gründliche und objektive Bewertung '\n",
      " 'jedes Immobilienprojekts. \\n'\n",
      " 'Abschnitt: Analysekonzept \\n')\n"
     ]
    }
   ],
   "source": [
    "prompt = create_prompt_for_document(first_doc.to_dict())\n",
    "pprint(prompt)"
   ]
  },
  {
   "cell_type": "code",
   "execution_count": 11,
   "metadata": {},
   "outputs": [
    {
     "data": {
      "text/plain": [
       "{'inputTextTokenCount': 655,\n",
       " 'results': [{'tokenCount': 218,\n",
       "   'outputText': 'Analysekonzept;Wie viele externe Partner sind an dem Analyseprozess für Immobilienprojekte bei Engel & Völkers Digital Invest beteiligt?\\nAnalysekonzept;Wer führt die Markt- und Standortanalyse bei dem Analyseprozess für Immobilienprojekte bei Engel & Völkers Digital Invest durch?\\nAnalysekonzept;Wer prüft die rechtlichen Aspekte bei dem Analyseprozess für Immobilienprojekte bei Engel & Völkers Digital Invest?\\nAnalysekonzept;Welche Firma analysiert den Projektentwickler bei dem Analyseprozess für Immobilienprojekte bei Engel & Völkers Digital Invest?\\nAnalysekonzept;Wer übernimmt die technische Projektanalyse bei dem Analyseprozess für Immobilienprojekte bei Engel & Völkers Digital Invest?',\n",
       "   'completionReason': 'FINISH'}]}"
      ]
     },
     "execution_count": 11,
     "metadata": {},
     "output_type": "execute_result"
    }
   ],
   "source": [
    "generated_result = invoke_llm_model(prompt, bedrock_client)\n",
    "generated_result"
   ]
  },
  {
   "cell_type": "code",
   "execution_count": 12,
   "metadata": {},
   "outputs": [
    {
     "name": "stdout",
     "output_type": "stream",
     "text": [
      "{'source_system': 'evdi', 'section': 'Analysekonzept', 'question': 'Wie viele externe Partner sind an dem Analyseprozess für Immobilienprojekte bei Engel & Völkers Digital Invest beteiligt?', 'document_id': 'f2624f5125f9'}\n",
      "{'source_system': 'evdi', 'section': 'Analysekonzept', 'question': 'Wer führt die Markt- und Standortanalyse bei dem Analyseprozess für Immobilienprojekte bei Engel & Völkers Digital Invest durch?', 'document_id': 'f2624f5125f9'}\n",
      "{'source_system': 'evdi', 'section': 'Analysekonzept', 'question': 'Wer prüft die rechtlichen Aspekte bei dem Analyseprozess für Immobilienprojekte bei Engel & Völkers Digital Invest?', 'document_id': 'f2624f5125f9'}\n",
      "{'source_system': 'evdi', 'section': 'Analysekonzept', 'question': 'Welche Firma analysiert den Projektentwickler bei dem Analyseprozess für Immobilienprojekte bei Engel & Völkers Digital Invest?', 'document_id': 'f2624f5125f9'}\n",
      "{'source_system': 'evdi', 'section': 'Analysekonzept', 'question': 'Wer übernimmt die technische Projektanalyse bei dem Analyseprozess für Immobilienprojekte bei Engel & Völkers Digital Invest?', 'document_id': 'f2624f5125f9'}\n"
     ]
    }
   ],
   "source": [
    "generated_questions = generated_result[\"results\"][0][\"outputText\"].strip().split(\"\\n\")\n",
    "for question in generated_questions:\n",
    "    question_as_list = question.split(\";\")\n",
    "    question_as_object = {\n",
    "        \"source_system\": first_doc[\"source_system\"],\n",
    "        \"category\": question_as_list[0],\n",
    "        \"question\": question_as_list[1],\n",
    "        \"document_id\": first_doc[\"document_id\"]\n",
    "    }\n",
    "    print(question_as_object)"
   ]
  },
  {
   "cell_type": "markdown",
   "metadata": {},
   "source": [
    "#### Generate ground truth questions for all items"
   ]
  },
  {
   "cell_type": "code",
   "execution_count": 13,
   "metadata": {},
   "outputs": [],
   "source": [
    "def generate_questions_for_prompt(doc: Dict[str, Any], prompt: str, bedrock_client) -> List[Dict[str, Any]]:\n",
    "    results = []\n",
    "    generated_result = invoke_llm_model(prompt, bedrock_client)\n",
    "    generated_questions = generated_result[\"results\"][0][\"outputText\"].strip().split(\"\\n\")\n",
    "\n",
    "    for question in generated_questions:\n",
    "        question_as_list = question.split(\";\")\n",
    "        question_as_object = {\n",
    "            \"source_system\": doc[\"source_system\"],\n",
    "            \"category\": question_as_list[0].strip(),\n",
    "            \"question\": question_as_list[1].strip(),\n",
    "            \"document_id\": doc[\"document_id\"]\n",
    "        }\n",
    "\n",
    "        results.append(question_as_object)\n",
    "\n",
    "    return results"
   ]
  },
  {
   "cell_type": "code",
   "execution_count": 14,
   "metadata": {},
   "outputs": [
    {
     "data": {
      "text/html": [
       "<div>\n",
       "<style scoped>\n",
       "    .dataframe tbody tr th:only-of-type {\n",
       "        vertical-align: middle;\n",
       "    }\n",
       "\n",
       "    .dataframe tbody tr th {\n",
       "        vertical-align: top;\n",
       "    }\n",
       "\n",
       "    .dataframe thead th {\n",
       "        text-align: right;\n",
       "    }\n",
       "</style>\n",
       "<table border=\"1\" class=\"dataframe\">\n",
       "  <thead>\n",
       "    <tr style=\"text-align: right;\">\n",
       "      <th></th>\n",
       "      <th>source_system</th>\n",
       "      <th>section</th>\n",
       "      <th>question</th>\n",
       "      <th>document_id</th>\n",
       "    </tr>\n",
       "  </thead>\n",
       "  <tbody>\n",
       "    <tr>\n",
       "      <th>0</th>\n",
       "      <td>evdi</td>\n",
       "      <td>Analysekonzept</td>\n",
       "      <td>Was sind die wichtigsten Schritte des Analysep...</td>\n",
       "      <td>f2624f5125f9</td>\n",
       "    </tr>\n",
       "    <tr>\n",
       "      <th>1</th>\n",
       "      <td>evdi</td>\n",
       "      <td>Analysekonzept</td>\n",
       "      <td>Welche externen Partner sind an der Analyse vo...</td>\n",
       "      <td>f2624f5125f9</td>\n",
       "    </tr>\n",
       "    <tr>\n",
       "      <th>2</th>\n",
       "      <td>evdi</td>\n",
       "      <td>Analysekonzept</td>\n",
       "      <td>Wie garantiert Engel &amp; Völkers Digital Invest ...</td>\n",
       "      <td>f2624f5125f9</td>\n",
       "    </tr>\n",
       "    <tr>\n",
       "      <th>3</th>\n",
       "      <td>evdi</td>\n",
       "      <td>Analysekonzept</td>\n",
       "      <td>Wer führt die technische Projektanalyse für Im...</td>\n",
       "      <td>f2624f5125f9</td>\n",
       "    </tr>\n",
       "    <tr>\n",
       "      <th>4</th>\n",
       "      <td>evdi</td>\n",
       "      <td>Analysekonzept</td>\n",
       "      <td>Wer überprüft die rechtlichen Aspekte von Immo...</td>\n",
       "      <td>f2624f5125f9</td>\n",
       "    </tr>\n",
       "  </tbody>\n",
       "</table>\n",
       "</div>"
      ],
      "text/plain": [
       "  source_system         section  \\\n",
       "0          evdi  Analysekonzept   \n",
       "1          evdi  Analysekonzept   \n",
       "2          evdi  Analysekonzept   \n",
       "3          evdi  Analysekonzept   \n",
       "4          evdi  Analysekonzept   \n",
       "\n",
       "                                            question   document_id  \n",
       "0  Was sind die wichtigsten Schritte des Analysep...  f2624f5125f9  \n",
       "1  Welche externen Partner sind an der Analyse vo...  f2624f5125f9  \n",
       "2  Wie garantiert Engel & Völkers Digital Invest ...  f2624f5125f9  \n",
       "3  Wer führt die technische Projektanalyse für Im...  f2624f5125f9  \n",
       "4  Wer überprüft die rechtlichen Aspekte von Immo...  f2624f5125f9  "
      ]
     },
     "execution_count": 14,
     "metadata": {},
     "output_type": "execute_result"
    }
   ],
   "source": [
    "existing_df: DataFrame\n",
    "if os.path.exists(ground_truth_path):\n",
    "    existing_df = pd.read_csv(ground_truth_path, delimiter=\";\")\n",
    "else:\n",
    "    columns = ['source_system', 'category', 'question', 'document_id']\n",
    "    existing_df = pd.DataFrame(columns=columns)\n",
    "\n",
    "existing_df[:10]"
   ]
  },
  {
   "cell_type": "code",
   "execution_count": 19,
   "metadata": {},
   "outputs": [
    {
     "name": "stderr",
     "output_type": "stream",
     "text": [
      "87it [04:56,  3.41s/it]\n"
     ]
    }
   ],
   "source": [
    "for idx, doc in tqdm(df.iterrows()):\n",
    "    document_id_to_check = doc[\"document_id\"]\n",
    "    if not existing_df.empty and document_id_to_check in existing_df[\"document_id\"].values:\n",
    "        continue\n",
    "\n",
    "    doc_as_dict = doc.to_dict()\n",
    "    prompt = create_prompt_for_document(doc_as_dict)\n",
    "    generated_questions = generate_questions_for_prompt(doc_as_dict, prompt, bedrock_client)\n",
    "\n",
    "    documents_df = pd.DataFrame(generated_questions)\n",
    "    existing_df = pd.concat([existing_df, documents_df], ignore_index=True)\n",
    "    existing_df.to_csv(ground_truth_path, sep=\";\", index=False)"
   ]
  },
  {
   "cell_type": "code",
   "execution_count": 21,
   "metadata": {},
   "outputs": [
    {
     "data": {
      "text/html": [
       "<div>\n",
       "<style scoped>\n",
       "    .dataframe tbody tr th:only-of-type {\n",
       "        vertical-align: middle;\n",
       "    }\n",
       "\n",
       "    .dataframe tbody tr th {\n",
       "        vertical-align: top;\n",
       "    }\n",
       "\n",
       "    .dataframe thead th {\n",
       "        text-align: right;\n",
       "    }\n",
       "</style>\n",
       "<table border=\"1\" class=\"dataframe\">\n",
       "  <thead>\n",
       "    <tr style=\"text-align: right;\">\n",
       "      <th></th>\n",
       "      <th>source_system</th>\n",
       "      <th>section</th>\n",
       "      <th>question</th>\n",
       "      <th>document_id</th>\n",
       "    </tr>\n",
       "  </thead>\n",
       "  <tbody>\n",
       "    <tr>\n",
       "      <th>0</th>\n",
       "      <td>evdi</td>\n",
       "      <td>Analysekonzept</td>\n",
       "      <td>Was sind die wichtigsten Schritte des Analysep...</td>\n",
       "      <td>f2624f5125f9</td>\n",
       "    </tr>\n",
       "    <tr>\n",
       "      <th>1</th>\n",
       "      <td>evdi</td>\n",
       "      <td>Analysekonzept</td>\n",
       "      <td>Welche externen Partner sind an der Analyse vo...</td>\n",
       "      <td>f2624f5125f9</td>\n",
       "    </tr>\n",
       "    <tr>\n",
       "      <th>2</th>\n",
       "      <td>evdi</td>\n",
       "      <td>Analysekonzept</td>\n",
       "      <td>Wie garantiert Engel &amp; Völkers Digital Invest ...</td>\n",
       "      <td>f2624f5125f9</td>\n",
       "    </tr>\n",
       "    <tr>\n",
       "      <th>3</th>\n",
       "      <td>evdi</td>\n",
       "      <td>Analysekonzept</td>\n",
       "      <td>Wer führt die technische Projektanalyse für Im...</td>\n",
       "      <td>f2624f5125f9</td>\n",
       "    </tr>\n",
       "    <tr>\n",
       "      <th>4</th>\n",
       "      <td>evdi</td>\n",
       "      <td>Analysekonzept</td>\n",
       "      <td>Wer überprüft die rechtlichen Aspekte von Immo...</td>\n",
       "      <td>f2624f5125f9</td>\n",
       "    </tr>\n",
       "  </tbody>\n",
       "</table>\n",
       "</div>"
      ],
      "text/plain": [
       "  source_system         section  \\\n",
       "0          evdi  Analysekonzept   \n",
       "1          evdi  Analysekonzept   \n",
       "2          evdi  Analysekonzept   \n",
       "3          evdi  Analysekonzept   \n",
       "4          evdi  Analysekonzept   \n",
       "\n",
       "                                            question   document_id  \n",
       "0  Was sind die wichtigsten Schritte des Analysep...  f2624f5125f9  \n",
       "1  Welche externen Partner sind an der Analyse vo...  f2624f5125f9  \n",
       "2  Wie garantiert Engel & Völkers Digital Invest ...  f2624f5125f9  \n",
       "3  Wer führt die technische Projektanalyse für Im...  f2624f5125f9  \n",
       "4  Wer überprüft die rechtlichen Aspekte von Immo...  f2624f5125f9  "
      ]
     },
     "execution_count": 21,
     "metadata": {},
     "output_type": "execute_result"
    }
   ],
   "source": [
    "existing_df.head()"
   ]
  },
  {
   "cell_type": "code",
   "execution_count": 20,
   "metadata": {},
   "outputs": [
    {
     "data": {
      "text/html": [
       "<div>\n",
       "<style scoped>\n",
       "    .dataframe tbody tr th:only-of-type {\n",
       "        vertical-align: middle;\n",
       "    }\n",
       "\n",
       "    .dataframe tbody tr th {\n",
       "        vertical-align: top;\n",
       "    }\n",
       "\n",
       "    .dataframe thead th {\n",
       "        text-align: right;\n",
       "    }\n",
       "</style>\n",
       "<table border=\"1\" class=\"dataframe\">\n",
       "  <thead>\n",
       "    <tr style=\"text-align: right;\">\n",
       "      <th></th>\n",
       "      <th>source_system</th>\n",
       "      <th>section</th>\n",
       "      <th>question</th>\n",
       "      <th>document_id</th>\n",
       "    </tr>\n",
       "  </thead>\n",
       "  <tbody>\n",
       "    <tr>\n",
       "      <th>441</th>\n",
       "      <td>evdi</td>\n",
       "      <td>Unser Leistungsnachweis</td>\n",
       "      <td>Welches Konzept hilft bei der Steigerung der R...</td>\n",
       "      <td>7e625586f6b2</td>\n",
       "    </tr>\n",
       "    <tr>\n",
       "      <th>442</th>\n",
       "      <td>evdi</td>\n",
       "      <td>Unser Leistungsnachweis</td>\n",
       "      <td>Was ist der Name des Konzepts, das zur Steiger...</td>\n",
       "      <td>7e625586f6b2</td>\n",
       "    </tr>\n",
       "    <tr>\n",
       "      <th>443</th>\n",
       "      <td>evdi</td>\n",
       "      <td>Unser Leistungsnachweis</td>\n",
       "      <td>Was ist die Bezeichnung für das Reinvestment v...</td>\n",
       "      <td>7e625586f6b2</td>\n",
       "    </tr>\n",
       "    <tr>\n",
       "      <th>444</th>\n",
       "      <td>evdi</td>\n",
       "      <td>Unser Leistungsnachweis</td>\n",
       "      <td>Was betont die Plattform, wenn es um das Reinv...</td>\n",
       "      <td>7e625586f6b2</td>\n",
       "    </tr>\n",
       "    <tr>\n",
       "      <th>445</th>\n",
       "      <td>evdi</td>\n",
       "      <td>Unser Leistungsnachweis</td>\n",
       "      <td>Was bietet die Plattform für die Reinvestition...</td>\n",
       "      <td>7e625586f6b2</td>\n",
       "    </tr>\n",
       "  </tbody>\n",
       "</table>\n",
       "</div>"
      ],
      "text/plain": [
       "    source_system                  section  \\\n",
       "441          evdi  Unser Leistungsnachweis   \n",
       "442          evdi  Unser Leistungsnachweis   \n",
       "443          evdi  Unser Leistungsnachweis   \n",
       "444          evdi  Unser Leistungsnachweis   \n",
       "445          evdi  Unser Leistungsnachweis   \n",
       "\n",
       "                                              question   document_id  \n",
       "441  Welches Konzept hilft bei der Steigerung der R...  7e625586f6b2  \n",
       "442  Was ist der Name des Konzepts, das zur Steiger...  7e625586f6b2  \n",
       "443  Was ist die Bezeichnung für das Reinvestment v...  7e625586f6b2  \n",
       "444  Was betont die Plattform, wenn es um das Reinv...  7e625586f6b2  \n",
       "445  Was bietet die Plattform für die Reinvestition...  7e625586f6b2  "
      ]
     },
     "execution_count": 20,
     "metadata": {},
     "output_type": "execute_result"
    }
   ],
   "source": [
    "existing_df.tail()"
   ]
  }
 ],
 "metadata": {
  "kernelspec": {
   "display_name": "Python 3 (ipykernel)",
   "language": "python",
   "name": "python3"
  }
 },
 "nbformat": 4,
 "nbformat_minor": 2
}
