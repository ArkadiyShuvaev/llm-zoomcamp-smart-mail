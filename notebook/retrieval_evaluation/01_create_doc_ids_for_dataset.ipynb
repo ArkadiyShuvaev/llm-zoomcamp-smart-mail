{
 "cells": [
  {
   "cell_type": "markdown",
   "metadata": {},
   "source": [
    "## Create dataset with documents ids\n",
    "The goal of this notebook is to merge all documents into single one and add the `document id` property to every document."
   ]
  },
  {
   "cell_type": "code",
   "execution_count": 8,
   "metadata": {},
   "outputs": [],
   "source": [
    "from pprint import pprint\n",
    "\n",
    "import hashlib\n",
    "import pandas as pd\n",
    "import os"
   ]
  },
  {
   "cell_type": "markdown",
   "metadata": {},
   "source": [
    "### Read all data files and merge them into a single one."
   ]
  },
  {
   "cell_type": "code",
   "execution_count": 9,
   "metadata": {},
   "outputs": [],
   "source": [
    "source_faqs_directory = \"/home/jovyan/work/mage/data/faqs/\"\n",
    "doc_with_ids_path = \"/home/jovyan/work/notebook/retrieval_evaluation/dataset_with_doc_ids.csv\""
   ]
  },
  {
   "cell_type": "markdown",
   "metadata": {},
   "source": [
    "### Add a document id field\n",
    "The length of the field is the same, as pipeline uses to index data."
   ]
  },
  {
   "cell_type": "code",
   "execution_count": 10,
   "metadata": {},
   "outputs": [
    {
     "name": "stdout",
     "output_type": "stream",
     "text": [
      "[{'answer': 'Der Analyseprozess bei Engel & Völkers Digital Invest basiert auf '\n",
      "            'einem speziell entwickelten Konzept für die Projektfinanzierung '\n",
      "            'von Bauvorhaben und Grundstücken. Zunächst erfolgt eine interne '\n",
      "            'Analyse, die auf dem umfangreichen Know-how des Engel & '\n",
      "            'Völkers-Netzwerks aufbaut, einschließlich Research-Material und '\n",
      "            'persönlicher Kontakte vor Ort. Um eine unabhängige Validierung zu '\n",
      "            'gewährleisten, werden zusätzlich externe Experten hinzugezogen: '\n",
      "            'Die bulwiengesa appraisal GmbH führt eine Markt- und '\n",
      "            'Standortanalyse durch, CBRE übernimmt die technische '\n",
      "            'Projektanalyse, Mazars analysiert den Projektentwickler, und HUTH '\n",
      "            'DIETRICH HAHN prüft die rechtlichen Aspekte. Basierend auf diesen '\n",
      "            'Gutachten erstellt Engel & Völkers Digital Invest '\n",
      "            'eigenverantwortlich die finale Projekteinschätzung. Dieser '\n",
      "            'umfassende Ansatz gewährleistet eine gründliche und objektive '\n",
      "            'Bewertung jedes Immobilienprojekts.',\n",
      "  'question': 'Wie läuft der Analyseprozess für Immobilienprojekte bei Engel & '\n",
      "              'Völkers Digital Invest ab und welche externen Partner sind '\n",
      "              'daran beteiligt?',\n",
      "  'section': 'Analysekonzept',\n",
      "  'source_system': 'evdi'}]\n"
     ]
    }
   ],
   "source": [
    "fileset = []\n",
    "column_names=[\"source_system\", \"category\", \"question\", \"answer\"]\n",
    "\n",
    "for file_name in os.listdir(source_faqs_directory):\n",
    "    if file_name.endswith(\".csv\"):\n",
    "        data = pd.read_csv(os.path.join(source_faqs_directory, file_name), delimiter=\";\", names=column_names, skiprows=1, usecols=(0,1,2,3))\n",
    "        fileset.append(data)\n",
    "\n",
    "df = pd.concat(fileset, ignore_index=True)\n",
    "pprint(df[:1].to_dict(orient=\"records\"))"
   ]
  },
  {
   "cell_type": "code",
   "execution_count": 11,
   "metadata": {},
   "outputs": [
    {
     "data": {
      "text/html": [
       "<div>\n",
       "<style scoped>\n",
       "    .dataframe tbody tr th:only-of-type {\n",
       "        vertical-align: middle;\n",
       "    }\n",
       "\n",
       "    .dataframe tbody tr th {\n",
       "        vertical-align: top;\n",
       "    }\n",
       "\n",
       "    .dataframe thead th {\n",
       "        text-align: right;\n",
       "    }\n",
       "</style>\n",
       "<table border=\"1\" class=\"dataframe\">\n",
       "  <thead>\n",
       "    <tr style=\"text-align: right;\">\n",
       "      <th></th>\n",
       "      <th>source_system</th>\n",
       "      <th>section</th>\n",
       "      <th>question</th>\n",
       "      <th>answer</th>\n",
       "      <th>document_id</th>\n",
       "    </tr>\n",
       "  </thead>\n",
       "  <tbody>\n",
       "    <tr>\n",
       "      <th>0</th>\n",
       "      <td>evdi</td>\n",
       "      <td>Analysekonzept</td>\n",
       "      <td>Wie läuft der Analyseprozess für Immobilienpro...</td>\n",
       "      <td>Der Analyseprozess bei Engel &amp; Völkers Digital...</td>\n",
       "      <td>f2624f5125f9</td>\n",
       "    </tr>\n",
       "  </tbody>\n",
       "</table>\n",
       "</div>"
      ],
      "text/plain": [
       "  source_system         section  \\\n",
       "0          evdi  Analysekonzept   \n",
       "\n",
       "                                            question  \\\n",
       "0  Wie läuft der Analyseprozess für Immobilienpro...   \n",
       "\n",
       "                                              answer   document_id  \n",
       "0  Der Analyseprozess bei Engel & Völkers Digital...  f2624f5125f9  "
      ]
     },
     "execution_count": 11,
     "metadata": {},
     "output_type": "execute_result"
    }
   ],
   "source": [
    "for idx, row in df.iterrows():\n",
    "    hex_digest = hashlib.md5(row[\"question\"].encode() + row[\"answer\"].encode()).hexdigest()\n",
    "    id = hex_digest[:12]\n",
    "    df.at[idx, \"document_id\"] = id\n",
    "\n",
    "df[:1]"
   ]
  },
  {
   "cell_type": "markdown",
   "metadata": {},
   "source": [
    "### Save the final dataframe"
   ]
  },
  {
   "cell_type": "code",
   "execution_count": 12,
   "metadata": {},
   "outputs": [],
   "source": [
    "df.to_csv(doc_with_ids_path, sep=\";\", index=False)"
   ]
  }
 ],
 "metadata": {
  "kernelspec": {
   "display_name": "Python 3 (ipykernel)",
   "language": "python",
   "name": "python3"
  }
 },
 "nbformat": 4,
 "nbformat_minor": 2
}
